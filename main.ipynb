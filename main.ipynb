{
 "cells": [
  {
   "cell_type": "code",
   "execution_count": 1,
   "metadata": {},
   "outputs": [],
   "source": [
    "%matplotlib inline\n",
    "import numpy as np\n",
    "import matplotlib.pyplot as plt\n",
    "import matplotlib.mlab as mlab\n",
    "from scipy import stats\n",
    "import pandas as pd\n",
    "import math\n",
    "from IPython.display import display\n",
    "import ipywidgets as widgets\n"
   ]
  },
  {
   "cell_type": "markdown",
   "metadata": {},
   "source": [
    "## Variabili"
   ]
  },
  {
   "cell_type": "code",
   "execution_count": 2,
   "metadata": {},
   "outputs": [],
   "source": [
    "w_static = 60\n",
    "w_dynamic = 40\n",
    "\n",
    "price_range = np.array([999,2499,3499,4999,6999,7000])\n",
    "percentage = np.array([1.667,1.333,1.167,1,.933,.8])\n",
    "daily_price = np.array([16.65,26.67,35,40,46.67,56])\n",
    "\n",
    "contitions_verbose = [\"ottime\",\"buone\",\"scarse\"]\n",
    "conditions = [1,.8,.6]\n",
    "\n",
    "years_verbose = [\"1-2\",\"2+\"]\n",
    "years = [1,.9]\n",
    "\n",
    "\n",
    "risk_premium_verbose = [\"Nessuno\",\"Pelle Liscia\",\"Pelle Martell.\",\"Strass, swarc\",\"Tessuto\",\"LV canva\"]\n",
    "risk_premium = [1, 1.25, 1.2, 1.35, 1.05, 1]\n"
   ]
  },
  {
   "cell_type": "markdown",
   "metadata": {},
   "source": [
    "## Alg Prezzo GG"
   ]
  },
  {
   "cell_type": "code",
   "execution_count": 3,
   "metadata": {},
   "outputs": [],
   "source": [
    "\n",
    "def calc_base_price(value,cond_index,years_index,risk_premium_index):\n",
    "    \n",
    "    index = 0\n",
    "    while(price_range[index] < value):\n",
    "        index += 1\n",
    "    \n",
    "\n",
    "    return value * (percentage[index]/100) * conditions[cond_index] * years[years_index] * risk_premium[risk_premium_index]\n",
    "    "
   ]
  },
  {
   "cell_type": "markdown",
   "metadata": {},
   "source": [
    "## Parte Statica"
   ]
  },
  {
   "cell_type": "code",
   "execution_count": 4,
   "metadata": {},
   "outputs": [
    {
     "data": {
      "text/html": [
       "<div>\n",
       "<style scoped>\n",
       "    .dataframe tbody tr th:only-of-type {\n",
       "        vertical-align: middle;\n",
       "    }\n",
       "\n",
       "    .dataframe tbody tr th {\n",
       "        vertical-align: top;\n",
       "    }\n",
       "\n",
       "    .dataframe thead th {\n",
       "        text-align: right;\n",
       "    }\n",
       "</style>\n",
       "<table border=\"1\" class=\"dataframe\">\n",
       "  <thead>\n",
       "    <tr style=\"text-align: right;\">\n",
       "      <th></th>\n",
       "      <th>0</th>\n",
       "      <th>1</th>\n",
       "      <th>2</th>\n",
       "      <th>3</th>\n",
       "      <th>4</th>\n",
       "      <th>5</th>\n",
       "    </tr>\n",
       "  </thead>\n",
       "  <tbody>\n",
       "    <tr>\n",
       "      <th>price range</th>\n",
       "      <td>999.000</td>\n",
       "      <td>2499.000</td>\n",
       "      <td>3499.000</td>\n",
       "      <td>4999.0</td>\n",
       "      <td>6999.000</td>\n",
       "      <td>7000.0</td>\n",
       "    </tr>\n",
       "    <tr>\n",
       "      <th>%</th>\n",
       "      <td>1.667</td>\n",
       "      <td>1.333</td>\n",
       "      <td>1.167</td>\n",
       "      <td>1.0</td>\n",
       "      <td>0.933</td>\n",
       "      <td>0.8</td>\n",
       "    </tr>\n",
       "    <tr>\n",
       "      <th>daily price</th>\n",
       "      <td>16.650</td>\n",
       "      <td>26.670</td>\n",
       "      <td>35.000</td>\n",
       "      <td>40.0</td>\n",
       "      <td>46.670</td>\n",
       "      <td>56.0</td>\n",
       "    </tr>\n",
       "  </tbody>\n",
       "</table>\n",
       "</div>"
      ],
      "text/plain": [
       "                   0         1         2       3         4       5\n",
       "price range  999.000  2499.000  3499.000  4999.0  6999.000  7000.0\n",
       "%              1.667     1.333     1.167     1.0     0.933     0.8\n",
       "daily price   16.650    26.670    35.000    40.0    46.670    56.0"
      ]
     },
     "execution_count": 4,
     "metadata": {},
     "output_type": "execute_result"
    }
   ],
   "source": [
    "tab = pd.DataFrame(data={\n",
    "    'price range' : price_range,\n",
    "    '%' : percentage,\n",
    "    'daily price': daily_price\n",
    "}).T\n",
    "\n",
    "tab"
   ]
  },
  {
   "cell_type": "markdown",
   "metadata": {},
   "source": [
    "## Calcolatore"
   ]
  },
  {
   "cell_type": "code",
   "execution_count": 6,
   "metadata": {},
   "outputs": [
    {
     "data": {
      "application/vnd.jupyter.widget-view+json": {
       "model_id": "45e4a2f3f673429b8fc86f9aeb6d7414",
       "version_major": 2,
       "version_minor": 0
      },
      "text/plain": [
       "IntSlider(value=0, description='Valore Borsa', max=10000)"
      ]
     },
     "metadata": {},
     "output_type": "display_data"
    },
    {
     "data": {
      "application/vnd.jupyter.widget-view+json": {
       "model_id": "a4500b20a4aa40d5ad497faed7bf5042",
       "version_major": 2,
       "version_minor": 0
      },
      "text/plain": [
       "Dropdown(description='Condizioni', options=('ottime', 'buone', 'scarse'), value='ottime')"
      ]
     },
     "metadata": {},
     "output_type": "display_data"
    },
    {
     "data": {
      "application/vnd.jupyter.widget-view+json": {
       "model_id": "0d4547561e0f406faaf078600133827f",
       "version_major": 2,
       "version_minor": 0
      },
      "text/plain": [
       "Dropdown(description='Anni', options=('1-2', '2+'), value='1-2')"
      ]
     },
     "metadata": {},
     "output_type": "display_data"
    },
    {
     "data": {
      "application/vnd.jupyter.widget-view+json": {
       "model_id": "ad61879103014f81b0533177f9c8ae79",
       "version_major": 2,
       "version_minor": 0
      },
      "text/plain": [
       "Dropdown(description='Premi A Rischio', options=('Nessuno', 'Pelle Liscia', 'Pelle Martell.', 'Strass, swarc',…"
      ]
     },
     "metadata": {},
     "output_type": "display_data"
    },
    {
     "data": {
      "application/vnd.jupyter.widget-view+json": {
       "model_id": "745900ec27cb4b8db92b25837564c1c9",
       "version_major": 2,
       "version_minor": 0
      },
      "text/plain": [
       "Button(description='Calcola', style=ButtonStyle())"
      ]
     },
     "metadata": {},
     "output_type": "display_data"
    },
    {
     "name": "stdout",
     "output_type": "stream",
     "text": [
      "0.0\n"
     ]
    }
   ],
   "source": [
    "def btn_eventhandler(obj):\n",
    "\n",
    "    price_d = calc_base_price(\n",
    "        value= slider_value.value,\n",
    "        cond_index= drop_conditions.index,\n",
    "        years_index= drop_years.index,   \n",
    "        risk_premium_index = drop_risk_prem.index\n",
    "    )\n",
    "\n",
    "    print(price_d)\n",
    "\n",
    "    \n",
    "\n",
    "slider_value = widgets.IntSlider(max=10000,description=\"Valore Borsa\")\n",
    "drop_conditions = widgets.Dropdown(options = contitions_verbose, description=\"Condizioni\")\n",
    "drop_years = widgets.Dropdown(options = years_verbose, description=\"Anni\")\n",
    "drop_risk_prem = widgets.Dropdown(options = risk_premium_verbose, description=\"Premi A Rischio\")\n",
    "\n",
    "btn = widgets.Button(description='Calcola')\n",
    "btn.on_click(btn_eventhandler)\n",
    "\n",
    "display(slider_value,drop_conditions,drop_years,drop_risk_prem,btn)\n"
   ]
  },
  {
   "cell_type": "code",
   "execution_count": null,
   "metadata": {},
   "outputs": [],
   "source": []
  }
 ],
 "metadata": {
  "kernelspec": {
   "display_name": "Python 3.8.5 64-bit",
   "language": "python",
   "name": "python3"
  },
  "language_info": {
   "codemirror_mode": {
    "name": "ipython",
    "version": 3
   },
   "file_extension": ".py",
   "mimetype": "text/x-python",
   "name": "python",
   "nbconvert_exporter": "python",
   "pygments_lexer": "ipython3",
   "version": "3.8.5"
  },
  "orig_nbformat": 4,
  "vscode": {
   "interpreter": {
    "hash": "aee8b7b246df8f9039afb4144a1f6fd8d2ca17a180786b69acc140d282b71a49"
   }
  }
 },
 "nbformat": 4,
 "nbformat_minor": 2
}
